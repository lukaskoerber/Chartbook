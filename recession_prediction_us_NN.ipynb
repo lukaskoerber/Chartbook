{
 "cells": [
  {
   "cell_type": "markdown",
   "id": "fb2287f6-9ea8-4a0c-943f-c42ee09d77f2",
   "metadata": {},
   "source": [
    "# US Recession prediction\n",
    "\n",
    "This script contains the the development of a Keras Neural Nets-Classifier to predict recession probabilities in the US using Treasury term spreads.\n",
    "\n",
    "The notebook is organized in the following way:\n",
    "1) Data Sourcing from Fred\n",
    "2) Data Manipulation\n",
    "3) Model selection via grid search (evaluated on Time series Cross Validation)\n",
    "4) Model evaluation on past recessions\n",
    "5) Estimation on whole data set and prediction on current edge"
   ]
  },
  {
   "cell_type": "markdown",
   "id": "9309b9a6-8517-4992-81b1-5b4b29063936",
   "metadata": {
    "tags": []
   },
   "source": [
    "# Import"
   ]
  },
  {
   "cell_type": "code",
   "execution_count": 9,
   "id": "1f598da9-9195-4fa5-83f1-f9542dd17cc7",
   "metadata": {},
   "outputs": [],
   "source": [
    "import pandas_datareader as pdr\n",
    "import pandas as pd\n",
    "import numpy as np\n",
    "import matplotlib.pyplot as plt\n",
    "from datetime import datetime\n",
    "import seaborn as sns\n",
    "from tensorflow import keras\n",
    "from tensorflow.keras.datasets import cifar10\n",
    "from tensorflow.keras.models import Sequential\n",
    "from tensorflow.keras.layers import Dense, Flatten, Conv2D, MaxPooling2D\n",
    "from tensorflow.keras.losses import sparse_categorical_crossentropy\n",
    "from tensorflow.keras.optimizers import Adam\n",
    "from sklearn.model_selection import KFold, GridSearchCV, TimeSeriesSplit\n",
    "from sklearn.preprocessing import Normalizer, RobustScaler\n",
    "from sklearn.pipeline import Pipeline\n",
    "from sklearn.metrics import recall_score, accuracy_score, precision_score, plot_confusion_matrix, confusion_matrix, ConfusionMatrixDisplay\n",
    "from scikeras.wrappers import KerasClassifier\n",
    "from keras import layers\n",
    "import tensorflow as tf"
   ]
  },
  {
   "cell_type": "code",
   "execution_count": 10,
   "id": "abcae836-23a9-4ab6-8754-a709d54d5f9b",
   "metadata": {},
   "outputs": [],
   "source": [
    "features = ['T10Y3M', 'T10Y2Y']"
   ]
  },
  {
   "cell_type": "markdown",
   "id": "0ba505af-02f6-45d8-87ba-1e581547ddaf",
   "metadata": {},
   "source": [
    "### data import\n",
    "In this section the data for which we will train the NN is sourced from FRED. Then, the data is transformed in order to fit the structure that will be used to train the ML-model."
   ]
  },
  {
   "cell_type": "code",
   "execution_count": 11,
   "id": "19fff1ca-1a0b-4533-98c5-84103ebeec7c",
   "metadata": {},
   "outputs": [],
   "source": [
    "# define start and end for which data is sourced\n",
    "start = datetime(1980, 5, 1)\n",
    "end = datetime(2022, 6, 20)\n",
    "\n",
    "# append USREC to list of tickers that are sourced from FRED\n",
    "source_data_list = features.copy()\n",
    "source_data_list.append('USREC')\n",
    "df = pdr.DataReader(source_data_list, 'fred', start, end)\n",
    "df = df.ffill()\n",
    "\n",
    "# handle NaNs and add Null (for plotting purpose in next fields)\n",
    "df = df.dropna()\n",
    "df['Null'] = 0"
   ]
  },
  {
   "cell_type": "code",
   "execution_count": 12,
   "id": "03f8fd56-2dd9-41ba-8459-9354c0364072",
   "metadata": {},
   "outputs": [
    {
     "name": "stdout",
     "output_type": "stream",
     "text": [
      "USREC binary has 9.4 times more frequent realization 0 opposed to 1 -> Very inbalanced target\n"
     ]
    }
   ],
   "source": [
    "ratio = df['USREC'].value_counts()[0.0] / df['USREC'].value_counts()[1.0]\n",
    "print('USREC binary has', str(round(ratio,1)), 'times more frequent realization 0 opposed to 1 -> Very inbalanced target')"
   ]
  },
  {
   "cell_type": "markdown",
   "id": "2715f260-1466-472b-91fa-c2269ef505ab",
   "metadata": {},
   "source": [
    "Problem that arises because of that: \"In the case of class imbalances, ... , relatively robust procedures (evaluation metrics) used for unskewed data can break down miserably when the data is skewed.\"  Imbalanced Learning: Foundations, Algorithms, and Applications, 2013, p.187\n",
    "\n",
    "For US, it was found that, during the model selection process (grid search) the imbalancedness of the target variable does not pose a huge problem. Even if the grid search is run for accuracy (which is a slightly more intuitive measure), the selected model does a good job. For Germany, this is different."
   ]
  },
  {
   "cell_type": "markdown",
   "id": "3e342709-057d-418b-9c7e-b31645adeb31",
   "metadata": {},
   "source": [
    "## transformation\n",
    "In this section the target variable will be transformed. As we want to predict the indicator variable that captures the question: \"How likely is a recession-start in the next 12 months starting from now?\" it is needed to first obtain recession start dates and then to backfill the indicator for the 12 previous months."
   ]
  },
  {
   "cell_type": "code",
   "execution_count": 13,
   "id": "7c4d5009-1619-4a7c-8d52-7ff7dcd824e8",
   "metadata": {},
   "outputs": [],
   "source": [
    "df['start_recession'] = df['USREC'] - df['USREC'].shift(1)\n",
    "df['start_recession'] = df['start_recession'].map(lambda x: np.nan if x != 1 else 1)\n",
    "\n",
    "df['start_recession_next_12m'] = df['start_recession'].bfill(limit=252).fillna(0)\n",
    "\n",
    "# for all dates from today to one year ago we do not know that a recession will not happen\n",
    "datelist = pd.date_range(end = datetime.today().date(), periods = 360)\n",
    "df.loc[df.index.isin(datelist), 'start_recession_next_12m'] = None"
   ]
  },
  {
   "cell_type": "markdown",
   "id": "c1ead0ec-53ee-4811-b68e-8b0487c92769",
   "metadata": {},
   "source": [
    "# Model selection\n",
    "In this section, the model will be selected by a grid search algorithm. "
   ]
  },
  {
   "cell_type": "code",
   "execution_count": 14,
   "id": "0bba8822-4144-4a5e-bc65-fc952f6fa454",
   "metadata": {},
   "outputs": [],
   "source": [
    "# drop redundant features\n",
    "df = df.drop(['start_recession', 'Null', 'USREC'], axis=1)\n",
    "df_total = df.copy()  # keep current edge for out-of-sample prediction\n",
    "df = df.dropna()  # drops current edge, thus leaving only historic, labeled data\n",
    "df.columns\n",
    "\n",
    "# split df into X and y\n",
    "X = df[features]\n",
    "y = df['start_recession_next_12m']"
   ]
  },
  {
   "cell_type": "markdown",
   "id": "e9bac87e-68e3-4865-8965-acf2fca33a7a",
   "metadata": {},
   "source": [
    "## architecture\n",
    "Define the NN's base architecture. Certain hyperparameters are kept flexible in order to perform the grid search."
   ]
  },
  {
   "cell_type": "code",
   "execution_count": 15,
   "id": "8070801d-db00-46f4-91e5-7b73d848ad11",
   "metadata": {},
   "outputs": [],
   "source": [
    "def get_model(hidden_layer_dim, number_hidden_layers, dropout_rate, meta):\n",
    "    # note that meta is a special argument that will be\n",
    "    # handed a dict containing input metadata\n",
    "    n_features_in_ = meta[\"n_features_in_\"]\n",
    "    X_shape_ = meta[\"X_shape_\"]\n",
    "\n",
    "    model = keras.models.Sequential()\n",
    "    model.add(keras.layers.Dense(n_features_in_, input_shape=X_shape_[1:], activation=keras.layers.Activation(\"relu\")))\n",
    "    for i in (0, number_hidden_layers):\n",
    "        model.add(layers.Dropout(dropout_rate))\n",
    "        model.add(keras.layers.Dense(hidden_layer_dim, activation=keras.layers.Activation(\"relu\")))\n",
    "    model.add(keras.layers.Dense(2, activation=keras.layers.Activation(\"sigmoid\")))\n",
    "    \n",
    "    return model"
   ]
  },
  {
   "cell_type": "markdown",
   "id": "62e2d947-602f-41ef-a794-74bdc39ec20b",
   "metadata": {
    "tags": []
   },
   "source": [
    "## grid search \n",
    "In the next section, the Keras DL model will be wrapped in order to make it usable in the scikit-learn framework. Once that is done, we can perform a gridsearchCV (like it is done with SVM) to search for optimal hyperparameters."
   ]
  },
  {
   "cell_type": "markdown",
   "id": "02d8f8ce-aed3-43ac-ba58-208f7db3f92f",
   "metadata": {},
   "source": [
    "Instead of defining only the classifier, one can define a <b>Scikit-learn pipeline</b> which also handles the normalization preprocessing step while ensuring that there is no information overlap (information leak) between train and test data about mean and std (in case of normalization).\n",
    "\n",
    "In Grid search, one can choose from multiple <b>scoring metrics</b> that try to measure the performance of the ML-model. f1-score is often preferred when dealing with imbalanced distribution of target variable. Here, accuracy will be evaluated, as it is the most straigt-forward and easy-to-interpret scoring measure for classification. It was found that for this setup both scoring metrics provide a very similar solution.\n",
    "\n",
    "This setup permits the efficient search for <b> hyperparameters</b> while ensuring:\n",
    "- Train & test datasets do not have overlap w.r.t. time\n",
    "- Train & test datasets have no information overlap w.r.t. data transformation parameters (i.e. mean and std in StandardScaler)\n"
   ]
  },
  {
   "cell_type": "code",
   "execution_count": 16,
   "id": "b6f3fd9b-c472-491e-80db-d0f0795a5ad9",
   "metadata": {},
   "outputs": [],
   "source": [
    "tf.keras.utils.set_random_seed(\n",
    "    1\n",
    ")"
   ]
  },
  {
   "cell_type": "code",
   "execution_count": 17,
   "id": "22353a1b-924a-4ce9-b133-0fcbb33f8d25",
   "metadata": {},
   "outputs": [],
   "source": [
    "clf = KerasClassifier(\n",
    "    get_model,\n",
    "    loss=\"sparse_categorical_crossentropy\",\n",
    "    hidden_layer_dim=100,\n",
    "    number_hidden_layers=1,\n",
    "    epochs=3,\n",
    "    dropout_rate=0.2\n",
    ")\n",
    "\n",
    "# define sklearn pipeline\n",
    "pipe = Pipeline([\n",
    "    ('normalization', Normalizer()),\n",
    "    ('clf', clf),\n",
    "])"
   ]
  },
  {
   "cell_type": "code",
   "execution_count": 18,
   "id": "1af4d979-b3fe-4036-9f39-53453db8c134",
   "metadata": {},
   "outputs": [
    {
     "name": "stderr",
     "output_type": "stream",
     "text": [
      "2022-06-20 18:32:33.603378: I tensorflow/core/platform/cpu_feature_guard.cc:151] This TensorFlow binary is optimized with oneAPI Deep Neural Network Library (oneDNN) to use the following CPU instructions in performance-critical operations:  AVX2 FMA\n",
      "To enable them in other operations, rebuild TensorFlow with the appropriate compiler flags.\n"
     ]
    }
   ],
   "source": [
    "%%capture\n",
    "\n",
    "# define hyperparameter space\n",
    "params = {\n",
    "    \"clf__hidden_layer_dim\": [10, 20, 50, 75],\n",
    "    \"clf__loss\": [\"sparse_categorical_crossentropy\"],\n",
    "    \"clf__optimizer\": [\"adam\", \"sgd\"],\n",
    "    \"clf__optimizer__learning_rate\": [0.0001, 0.001, 0.1],\n",
    "    \"clf__epochs\": [5, 7, 15],\n",
    "    \"clf__number_hidden_layers\": [1, 3, 5],\n",
    "    \"clf__dropout_rate\": [0.2, 0.4]\n",
    "}\n",
    "\n",
    "# define grid search with TimeSeriesSplit\n",
    "gs = GridSearchCV(pipe, params, refit=False, cv=TimeSeriesSplit(n_splits=5), scoring='accuracy')\n",
    "\n",
    "gs.fit(X, y)"
   ]
  },
  {
   "cell_type": "code",
   "execution_count": 24,
   "id": "2ce2a20b-84d1-482f-b006-1199a991f5bf",
   "metadata": {},
   "outputs": [],
   "source": [
    "print(gs.best_score_, gs.best_params_)"
   ]
  },
  {
   "cell_type": "code",
   "execution_count": 25,
   "id": "3c4d03f7-df17-4ba1-b131-52a3c7311220",
   "metadata": {},
   "outputs": [],
   "source": [
    "# results of hyperparameter tuning\n",
    "nn_hyperparams = {'clf__dropout_rate': 0.2, 'clf__epochs': 7, 'clf__hidden_layer_dim': 75, \n",
    "                  'clf__loss': 'sparse_categorical_crossentropy', 'clf__number_hidden_layers': 3, \n",
    "                  'clf__optimizer': 'adam', 'clf__optimizer__learning_rate': 0.1}"
   ]
  },
  {
   "cell_type": "markdown",
   "id": "46054e37-cb98-4613-a3cf-35c6106ca518",
   "metadata": {
    "tags": []
   },
   "source": [
    "## result grid search \n",
    "... cache parameters"
   ]
  },
  {
   "cell_type": "code",
   "execution_count": 26,
   "id": "91d7ea79-7422-40d5-b729-9c41d397d1e9",
   "metadata": {},
   "outputs": [],
   "source": [
    "hidden_layer_dim = nn_hyperparams['clf__hidden_layer_dim']\n",
    "loss = nn_hyperparams['clf__loss']\n",
    "optimizer = nn_hyperparams['clf__optimizer']\n",
    "learning_rate = nn_hyperparams['clf__optimizer__learning_rate']\n",
    "number_hidden_layers = nn_hyperparams['clf__number_hidden_layers']\n",
    "epochs = nn_hyperparams['clf__epochs']\n",
    "dropout_rate = nn_hyperparams['clf__dropout_rate']"
   ]
  },
  {
   "cell_type": "code",
   "execution_count": 27,
   "id": "52aa252f-4f53-4394-8092-85857d01826b",
   "metadata": {},
   "outputs": [],
   "source": [
    "# define classifier again, this time with the results of grid search (with \"optimal\" hyperparameters)\n",
    "clf = KerasClassifier(\n",
    "    get_model,\n",
    "    hidden_layer_dim=hidden_layer_dim,\n",
    "    loss=loss,\n",
    "    optimizer=optimizer,\n",
    "    number_hidden_layers=number_hidden_layers,\n",
    "    epochs=epochs,\n",
    "    dropout_rate=dropout_rate\n",
    ")\n",
    "\n",
    "# define classification pipeline\n",
    "pipe = Pipeline([\n",
    "    ('normalization', Normalizer()),\n",
    "    ('clf', clf),\n",
    "])"
   ]
  },
  {
   "cell_type": "markdown",
   "id": "904516ef-20f9-423d-80e0-fd370f492f1d",
   "metadata": {
    "tags": []
   },
   "source": [
    "# In-practice evaluation: Train 1980-2000, Test Second recession (start: May 2001)"
   ]
  },
  {
   "cell_type": "markdown",
   "id": "b41e718d-80bc-427f-8f76-92a619cac07b",
   "metadata": {},
   "source": [
    "## setup data"
   ]
  },
  {
   "cell_type": "code",
   "execution_count": 28,
   "id": "a013af7d-1d4b-487e-b678-f4fee8212f3c",
   "metadata": {},
   "outputs": [],
   "source": [
    "# define date range used for training and testing\n",
    "train_date_range = pd.date_range(start=start, end=pd.to_datetime('2000-01-01'))\n",
    "test_date_range = pd.date_range(start=pd.to_datetime('2000-01-02'), end=pd.to_datetime('2005-01-01'))\n",
    "\n",
    "# split dataset according to pre-defined date ranges\n",
    "X_train = df[df.index.isin(train_date_range)][features]\n",
    "y_train = df[df.index.isin(train_date_range)]['start_recession_next_12m']\n",
    "\n",
    "X_test = df[df.index.isin(test_date_range)][features]\n",
    "y_test = df[df.index.isin(test_date_range)]['start_recession_next_12m']"
   ]
  },
  {
   "cell_type": "markdown",
   "id": "9a5b68d3-98c1-49d2-9d8a-bc990ef2eea6",
   "metadata": {},
   "source": [
    "## setup model and fit model on historic data until 2000"
   ]
  },
  {
   "cell_type": "code",
   "execution_count": 29,
   "id": "fadbdf02-bccd-4c25-a632-1a399fd06aef",
   "metadata": {},
   "outputs": [],
   "source": [
    "%%capture\n",
    "pipe.fit(X_train, y_train)"
   ]
  },
  {
   "cell_type": "markdown",
   "id": "2e4c0a0a-57c4-4676-9254-e447f3e4daab",
   "metadata": {
    "tags": []
   },
   "source": [
    "## evalutate out-of-sample (2000-2005)"
   ]
  },
  {
   "cell_type": "code",
   "execution_count": 30,
   "id": "ab4551f2-b6f1-4058-b6f5-85a35718de77",
   "metadata": {},
   "outputs": [],
   "source": [
    "%%capture\n",
    "# predict out-of-sample\n",
    "y_proba = pipe.predict_proba(X_test)\n",
    "y_pred = pipe.predict(X_test)\n"
   ]
  },
  {
   "cell_type": "code",
   "execution_count": 31,
   "id": "69e22a5f-2a24-491e-9e55-bce6d50ce6ba",
   "metadata": {},
   "outputs": [
    {
     "data": {
      "text/plain": [
       "<matplotlib.legend.Legend at 0x7fc7faa16b30>"
      ]
     },
     "execution_count": 31,
     "metadata": {},
     "output_type": "execute_result"
    },
    {
     "data": {
      "image/png": "[encoded data removed]",
      "text/plain": [
       "<Figure size 864x576 with 1 Axes>"
      ]
     },
     "metadata": {
      "needs_background": "light"
     },
     "output_type": "display_data"
    }
   ],
   "source": [
    "# Save results\n",
    "results = X_test.copy()\n",
    "results['Probability of recession within 12M after time point t'] = [x[1] for x in y_proba]\n",
    "results['Recession within 12M binary'] = y_pred\n",
    "results['y_true'] = y_test\n",
    "\n",
    "# plot out-of-sample probability and binary prediction for GFC\n",
    "ax = results['Probability of recession within 12M after time point t'].plot(figsize=(12,8))\n",
    "ax.fill_between(results.index, -0.1, 1.1, where=results['Recession within 12M binary'], color='g', alpha=0.4, label='Recession within 12M binary = 1')\n",
    "ax.fill_between(results.index, -0.1, 1.1, where=results['y_true'].values, color='gray', alpha=0.3)\n",
    "ax.set_ylim((-0.1,1.1))\n",
    "ax.legend(loc=\"upper left\")\n"
   ]
  },
  {
   "cell_type": "markdown",
   "id": "579fd78e-15e4-46ea-9f3c-4a7dd111efdd",
   "metadata": {},
   "source": [
    "### calculate statistics"
   ]
  },
  {
   "cell_type": "code",
   "execution_count": 32,
   "id": "252cef4e-3256-4bbe-b2f0-7c8843f34b5b",
   "metadata": {},
   "outputs": [
    {
     "name": "stdout",
     "output_type": "stream",
     "text": [
      "NN accuracy for out-of-sample period 80.9 %\n",
      "NN precision for out-of-sample period 0.0 %\n",
      "NN recall for out-of-sample period 0.0 %\n"
     ]
    },
    {
     "name": "stderr",
     "output_type": "stream",
     "text": [
      "/Users/lukas/miniconda3/envs/toolbox/lib/python3.10/site-packages/sklearn/metrics/_classification.py:1318: UndefinedMetricWarning: Precision is ill-defined and being set to 0.0 due to no predicted samples. Use `zero_division` parameter to control this behavior.\n",
      "  _warn_prf(average, modifier, msg_start, len(result))\n"
     ]
    }
   ],
   "source": [
    "print('NN accuracy for out-of-sample period', round(accuracy_score(y_test, y_pred) * 100, 1), '%')\n",
    "print('NN precision for out-of-sample period', round(precision_score(y_test, y_pred) * 100, 1), '%')\n",
    "print('NN recall for out-of-sample period', round(recall_score(y_test, y_pred) * 100, 1), '%')"
   ]
  },
  {
   "cell_type": "markdown",
   "id": "d96256b9-f11e-410f-924d-ae75b39b7eff",
   "metadata": {},
   "source": [
    "## bad performance: Why?\n",
    "Too small sample size of training data??\n",
    "\n",
    "As there is only the information about one recession in the training set the one could presume that this is the cause for the bad performance. Thus in the following, a Machine-Learning NO-GO is performed to get an indication if the bad performance is really caused by a lack of data."
   ]
  },
  {
   "cell_type": "code",
   "execution_count": 50,
   "id": "01dab4ee-4db4-4b8a-8c33-91918a0d435c",
   "metadata": {},
   "outputs": [],
   "source": [
    "# define date range used for training and testing\n",
    "test_date_range = pd.date_range(start=pd.to_datetime('2000-01-02'), end=pd.to_datetime('2006-01-01'))\n",
    "\n",
    "# split dataset. Here we only have test_date_range thus we split test_date_range from whole dataset and use the rest as training data\n",
    "X_train = df[~df.index.isin(test_date_range)][features]\n",
    "y_train = df[~df.index.isin(test_date_range)]['start_recession_next_12m']\n",
    "\n",
    "X_test = df[df.index.isin(test_date_range)][features]\n",
    "y_test = df[df.index.isin(test_date_range)]['start_recession_next_12m']"
   ]
  },
  {
   "cell_type": "code",
   "execution_count": 51,
   "id": "d35891e0-5947-4303-b3db-0979038eef10",
   "metadata": {},
   "outputs": [],
   "source": [
    "%%capture\n",
    "# new model training\n",
    "pipe.fit(X_train, y_train)\n",
    "# predict out-of-sample\n",
    "y_proba = pipe.predict_proba(X_test)\n",
    "y_pred = pipe.predict(X_test)"
   ]
  },
  {
   "cell_type": "code",
   "execution_count": 54,
   "id": "2cc9ae4c-dab9-4b7f-8f88-311a354d59b3",
   "metadata": {},
   "outputs": [
    {
     "data": {
      "text/plain": [
       "<matplotlib.legend.Legend at 0x7fc7fd4c8100>"
      ]
     },
     "execution_count": 54,
     "metadata": {},
     "output_type": "execute_result"
    },
    {
     "data": {
      "image/png": "[encoded data removed]",
      "text/plain": [
       "<Figure size 864x576 with 1 Axes>"
      ]
     },
     "metadata": {
      "needs_background": "light"
     },
     "output_type": "display_data"
    }
   ],
   "source": [
    "# Save results\n",
    "results = X_test.copy()\n",
    "results['Probability of recession within 12M after time point t'] = [x[1] for x in y_proba]\n",
    "results['Recession within 12M binary'] = y_pred\n",
    "results['y_true'] = y_test\n",
    "\n",
    "# plot out-of-sample probability and binary prediction for GFC\n",
    "ax = results['Probability of recession within 12M after time point t'].plot(figsize=(12,8))\n",
    "ax.fill_between(results.index, -0.1, 1.1, where=results['Recession within 12M binary'], color='g', alpha=0.4, label='Recession within 12M binary = 1')\n",
    "ax.fill_between(results.index, -0.1, 1.1, where=results['y_true'].values, color='gray', alpha=0.3)\n",
    "ax.set_ylim((-0.1,1.1))\n",
    "ax.legend(loc=\"upper left\")"
   ]
  },
  {
   "cell_type": "code",
   "execution_count": 55,
   "id": "92e94ff3-f83f-40ff-85cf-1fb9fc2583ea",
   "metadata": {},
   "outputs": [
    {
     "name": "stdout",
     "output_type": "stream",
     "text": [
      "NN accuracy for out-of-sample period 86.8 %\n",
      "NN precision for out-of-sample period 100.0 %\n",
      "NN recall for out-of-sample period 17.0 %\n"
     ]
    }
   ],
   "source": [
    "print('NN accuracy for out-of-sample period', round(accuracy_score(y_test, y_pred) * 100, 1), '%')\n",
    "print('NN precision for out-of-sample period', round(precision_score(y_test, y_pred) * 100, 1), '%')\n",
    "print('NN recall for out-of-sample period', round(recall_score(y_test, y_pred) * 100, 1), '%')"
   ]
  },
  {
   "cell_type": "markdown",
   "id": "deb146ac-a1be-450e-ae42-140f60508fc7",
   "metadata": {},
   "source": [
    "Result: As we add further information about recessions the out-of-sample precision rises significantly. Thus, one can see that the more recessions are included in the dataset, the higher the prediction's accuracy. "
   ]
  },
  {
   "cell_type": "markdown",
   "id": "9dddb90d-4197-42f2-af55-3cd74f116be0",
   "metadata": {
    "tags": []
   },
   "source": [
    "# Training: 1980-2006 Test: 2006-2012 (in practice)"
   ]
  },
  {
   "cell_type": "markdown",
   "id": "9fe4027b-5b16-4551-b5c8-1683124e760d",
   "metadata": {},
   "source": [
    "## setup data"
   ]
  },
  {
   "cell_type": "code",
   "execution_count": 59,
   "id": "98617424-56e4-4dc3-b4f8-c0eaa096352d",
   "metadata": {},
   "outputs": [],
   "source": [
    "# define date range used for training and testing\n",
    "train_date_range = pd.date_range(start=start, end=pd.to_datetime('2006-01-01'))\n",
    "test_date_range = pd.date_range(start=pd.to_datetime('2006-01-02'), end=pd.to_datetime('2012-01-01'))\n",
    "\n",
    "# split dataset according to pre-defined date ranges\n",
    "X_train = df[df.index.isin(train_date_range)][features]\n",
    "y_train = df[df.index.isin(train_date_range)]['start_recession_next_12m']\n",
    "\n",
    "X_test = df[df.index.isin(test_date_range)][features]\n",
    "y_test = df[df.index.isin(test_date_range)]['start_recession_next_12m']"
   ]
  },
  {
   "cell_type": "markdown",
   "id": "ce00b9d1-2425-49f9-ab82-cfd890b9ab65",
   "metadata": {},
   "source": [
    "## setup model and fit model on historic data until 2006"
   ]
  },
  {
   "cell_type": "code",
   "execution_count": 60,
   "id": "6dbb6d61-c050-4f3e-bfd9-b5fa0de8087f",
   "metadata": {},
   "outputs": [],
   "source": [
    "%%capture\n",
    "# fit model \n",
    "pipe.fit(X_train, y_train)"
   ]
  },
  {
   "cell_type": "markdown",
   "id": "6f03ad94-0284-4e74-99bf-90b49a665e5a",
   "metadata": {},
   "source": [
    "## predict the following years "
   ]
  },
  {
   "cell_type": "code",
   "execution_count": 61,
   "id": "af6a7a57-75eb-47d9-961f-1fac1923661c",
   "metadata": {},
   "outputs": [],
   "source": [
    "%%capture\n",
    "# predict out-of-sample\n",
    "y_proba = pipe.predict_proba(X_test)\n",
    "y_pred = pipe.predict(X_test)\n",
    "\n",
    "# Save results\n",
    "results = X_test.copy()\n",
    "results['Probability of recession within 12M after time point t'] = [x[1] for x in y_proba]\n",
    "results['Recession within 12M binary'] = y_pred\n",
    "results['y_true'] = y_test\n",
    "\n",
    "# plot out-of-sample probability and binary prediction for GFC\n",
    "ax = results['Probability of recession within 12M after time point t'].plot(figsize=(12,8))\n",
    "ax.fill_between(results.index, -0.1, 1.1, where=results['Recession within 12M binary'], color='g', alpha=0.4, label='Recession within 12M binary = 1')\n",
    "ax.fill_between(results.index, -0.1, 1.1, where=results['y_true'].values, color='gray', alpha=0.3)\n",
    "ax.set_ylim((-0.1,1.1))\n",
    "ax.legend(loc=\"upper left\")\n",
    "ax1 = X_test.plot(kind='line', y=['T10Y2Y', 'T10Y3M'], figsize=(12,8))\n",
    "ax1.plot(X_test.index, np.zeros(X_test.shape[0]), color='black')\n",
    "ax1.fill_between(results.index, ax1.get_ylim()[0], ax1.get_ylim()[1], where=results['y_true'].values, color='gray', alpha=0.3)\n"
   ]
  },
  {
   "cell_type": "markdown",
   "id": "984d3144-32ae-4689-b59b-82d839612c99",
   "metadata": {},
   "source": [
    "### calculate statistics"
   ]
  },
  {
   "cell_type": "code",
   "execution_count": 62,
   "id": "e4bfe2fe-b287-4bc7-ac80-ba85c1fb1ba7",
   "metadata": {},
   "outputs": [
    {
     "name": "stdout",
     "output_type": "stream",
     "text": [
      "NN accuracy for out-of-sample period 79.4 %\n",
      "NN precision for out-of-sample period 31.7 %\n",
      "NN recall for out-of-sample period 25.3 %\n"
     ]
    }
   ],
   "source": [
    "print('NN accuracy for out-of-sample period', round(accuracy_score(y_test, y_pred) * 100, 1), '%')\n",
    "print('NN precision for out-of-sample period', round(precision_score(y_test, y_pred) * 100, 1), '%')\n",
    "print('NN recall for out-of-sample period', round(recall_score(y_test, y_pred) * 100, 1), '%')"
   ]
  },
  {
   "cell_type": "markdown",
   "id": "4a2d69c9-5b95-473f-82be-9eb08b5e6f59",
   "metadata": {
    "tags": []
   },
   "source": [
    "# Training: 1980-2018 Test: 2018-2022 (in practice)"
   ]
  },
  {
   "cell_type": "code",
   "execution_count": 71,
   "id": "c6798d04-add9-4fd1-b368-7ef203a26374",
   "metadata": {},
   "outputs": [],
   "source": [
    "tf.keras.utils.set_random_seed(\n",
    "    1\n",
    ")"
   ]
  },
  {
   "cell_type": "markdown",
   "id": "43b249d7-99e1-4e7c-b906-1cc2e9d1e93d",
   "metadata": {},
   "source": [
    "## training"
   ]
  },
  {
   "cell_type": "code",
   "execution_count": 72,
   "id": "86316c88-12b0-4cca-a131-15b07ffa735c",
   "metadata": {},
   "outputs": [],
   "source": [
    "train_date_range = pd.date_range(start=start, end=pd.to_datetime('2018-01-01'))\n",
    "test_date_range = pd.date_range(start=pd.to_datetime('2018-01-02'), end=pd.to_datetime('2022-01-01'))\n",
    "\n",
    "# Train and test dataframes\n",
    "df_train = df[df.index.isin(train_date_range)]\n",
    "df_test = df[df.index.isin(test_date_range)]\n",
    "\n",
    "X_train = df_train[features]\n",
    "y_train = df_train['start_recession_next_12m']\n",
    "\n",
    "X_test = df_test[features]\n",
    "y_test = df_test['start_recession_next_12m']"
   ]
  },
  {
   "cell_type": "markdown",
   "id": "65367f50-130b-4cb7-8bb0-1e184419977f",
   "metadata": {},
   "source": [
    "## setup model and fit model on historic data until 2018"
   ]
  },
  {
   "cell_type": "code",
   "execution_count": 73,
   "id": "70c9e5ff-6b3d-42c3-aab3-e685ede4f1fa",
   "metadata": {},
   "outputs": [],
   "source": [
    "%%capture\n",
    "# train new model\n",
    "pipe.fit(X_train, y_train)\n",
    "\n",
    "# predict out-of-sample\n",
    "y_proba = pipe.predict_proba(X_test)\n",
    "y_pred = pipe.predict(X_test)"
   ]
  },
  {
   "cell_type": "markdown",
   "id": "993a1f99-6ab9-4e91-bc0e-3fe364a2a449",
   "metadata": {},
   "source": [
    "## predict the following years "
   ]
  },
  {
   "cell_type": "code",
   "execution_count": 75,
   "id": "3c16d9dd-ed13-46e7-b777-401e2cfef8f5",
   "metadata": {},
   "outputs": [
    {
     "data": {
      "text/plain": [
       "<matplotlib.collections.PolyCollection at 0x7fde9c1f9330>"
      ]
     },
     "execution_count": 75,
     "metadata": {},
     "output_type": "execute_result"
    },
    {
     "data": {
      "image/png": "[encoded data removed]",
      "text/plain": [
       "<Figure size 432x288 with 1 Axes>"
      ]
     },
     "metadata": {
      "needs_background": "light"
     },
     "output_type": "display_data"
    },
    {
     "data": {
      "image/png": "[encoded data removed]",
      "text/plain": [
       "<Figure size 432x288 with 1 Axes>"
      ]
     },
     "metadata": {
      "needs_background": "light"
     },
     "output_type": "display_data"
    }
   ],
   "source": [
    "# Save results\n",
    "results = X_test.copy()\n",
    "results['Probability of recession within 12M after time point t'] = [x[1] for x in y_proba]\n",
    "results['Recession within 12M binary'] = y_pred\n",
    "results['y_true'] = y_test\n",
    "\n",
    "# plot out-of-sample probability and binary prediction for GFC\n",
    "ax = results['Probability of recession within 12M after time point t'].plot(figsize=(12,8))\n",
    "ax.fill_between(results.index, 0, 1, where=results['Recession within 12M binary'], color='g', alpha=0.4, label='Recession within 12M binary = 1')\n",
    "ax.fill_between(results.index, -0.1, 1.1, where=results['y_true'].values, color='gray', alpha=0.3)\n",
    "ax.set_ylim((-0.1,1.1))\n",
    "ax.legend(loc=\"upper left\")\n",
    "ax1 = X_test.plot(kind='line', y=['T10Y2Y', 'T10Y3M'], figsize=(12,8))\n",
    "ax1.plot(X_test.index, np.zeros(X_test.shape[0]), color='black')\n",
    "ax1.fill_between(results.index, ax1.get_ylim()[0], ax1.get_ylim()[1], where=results['y_true'].values, color='gray', alpha=0.3)\n"
   ]
  },
  {
   "cell_type": "code",
   "execution_count": null,
   "id": "c70f3776-5b58-4054-9d3e-45cd2ec866fc",
   "metadata": {},
   "outputs": [],
   "source": []
  },
  {
   "cell_type": "markdown",
   "id": "4610da92-b37b-4835-a8a0-a2eb56677721",
   "metadata": {},
   "source": [
    "### calculate statistics"
   ]
  },
  {
   "cell_type": "code",
   "execution_count": 76,
   "id": "55d79a6c-5851-4738-8c82-84e2fe362ba3",
   "metadata": {},
   "outputs": [
    {
     "name": "stdout",
     "output_type": "stream",
     "text": [
      "NN accuracy for out-of-sample period 90.0 %\n",
      "NN precision for out-of-sample period 98.8 %\n",
      "NN recall for out-of-sample period 64.4 %\n"
     ]
    }
   ],
   "source": [
    "print('NN accuracy for out-of-sample period', round(accuracy_score(y_test, y_pred) * 100, 1), '%')\n",
    "print('NN precision for out-of-sample period', round(precision_score(y_test, y_pred) * 100, 1), '%')\n",
    "print('NN recall for out-of-sample period', round(recall_score(y_test, y_pred) * 100, 1), '%')"
   ]
  },
  {
   "cell_type": "markdown",
   "id": "38ff7125-3d6c-4327-b0ee-5b5126cfd3d2",
   "metadata": {
    "tags": []
   },
   "source": [
    "# Train final model and predict current edge\n",
    "Final model is the model that has indicated to be the most performant under TimeSeries-CV (derived in previous section)."
   ]
  },
  {
   "cell_type": "code",
   "execution_count": 78,
   "id": "74789cdb-0a3b-4df4-8935-a517677c4da2",
   "metadata": {},
   "outputs": [],
   "source": [
    "tf.keras.utils.set_random_seed(\n",
    "    1\n",
    ")"
   ]
  },
  {
   "cell_type": "markdown",
   "id": "a8997da0-d888-4bc0-a79e-b145d5da4aab",
   "metadata": {
    "tags": []
   },
   "source": [
    "## training and in-sample evaluation"
   ]
  },
  {
   "cell_type": "code",
   "execution_count": 79,
   "id": "5081cb3b-d64c-48f2-8ce0-6000af9cad42",
   "metadata": {},
   "outputs": [],
   "source": [
    "%%capture\n",
    "\n",
    "# fit model on whole dataset\n",
    "pipe.fit(X, y)\n",
    "\n",
    "# prediction in-sample\n",
    "y_proba = pipe.predict_proba(X)\n",
    "y_pred = pipe.predict(X)"
   ]
  },
  {
   "cell_type": "markdown",
   "id": "a02871f9-8eec-4779-9b6c-c2a391fcfd40",
   "metadata": {},
   "source": [
    "## analyse the in-sample prediction"
   ]
  },
  {
   "cell_type": "code",
   "execution_count": 81,
   "id": "fe6b70e9-c3c9-4d6d-b045-e560548ba84b",
   "metadata": {},
   "outputs": [
    {
     "data": {
      "text/plain": [
       "<matplotlib.legend.Legend at 0x7fde9c1e6a70>"
      ]
     },
     "execution_count": 81,
     "metadata": {},
     "output_type": "execute_result"
    },
    {
     "data": {
      "image/png": "[encoded data removed]",
      "text/plain": [
       "<Figure size 432x288 with 1 Axes>"
      ]
     },
     "metadata": {
      "needs_background": "light"
     },
     "output_type": "display_data"
    }
   ],
   "source": [
    "# In-Sample plot\n",
    "df_plot = X.copy()\n",
    "df_plot['Probability of recession within 12M after time point t'] = [x[1] for x in y_proba]\n",
    "df_plot['Recession within 12M binary'] = y_pred\n",
    "df_plot['y_true'] = y\n",
    "\n",
    "# plot out-of-sample probability\n",
    "ax = df_plot['Probability of recession within 12M after time point t'].plot(figsize=(12,8))\n",
    "ax.fill_between(df_plot.index, -0.1, 1.1, where=df_plot['Recession within 12M binary'], color='g', alpha=0.4, label='Recession within 12M binary = 1')\n",
    "ax.fill_between(df_plot.index, -0.1, 1.1, where=df_plot['y_true'].values, color='gray', alpha=0.3)\n",
    "ax.set_ylim((-0.1,1.1))\n",
    "ax.legend(loc=\"upper left\")\n"
   ]
  },
  {
   "cell_type": "markdown",
   "id": "5b2eb3a2-c66b-4299-a5a8-4fcdfce118ca",
   "metadata": {},
   "source": [
    "## current edge prediction\n",
    "Evaluate the current edge out-of-sample prediction."
   ]
  },
  {
   "cell_type": "code",
   "execution_count": 84,
   "id": "5c03758f-6015-4185-9bae-68805ab92992",
   "metadata": {},
   "outputs": [],
   "source": [
    "%%capture\n",
    "# create out-of-sample data set  / here: all data which is unlabeled\n",
    "X_current_edge = df_total[df_total.index.isin(datelist)].drop('start_recession_next_12m', axis=1)\n",
    "\n",
    "# predict on out-of-sample dataset\n",
    "y_proba = pipe.predict_proba(X_current_edge)"
   ]
  },
  {
   "cell_type": "code",
   "execution_count": 86,
   "id": "f507e577-a520-4ab8-b6ce-6395a6d6b938",
   "metadata": {},
   "outputs": [
    {
     "data": {
      "text/plain": [
       "(0.0, 1.0)"
      ]
     },
     "execution_count": 86,
     "metadata": {},
     "output_type": "execute_result"
    },
    {
     "data": {
      "image/png": "[encoded data removed]",
      "text/plain": [
       "<Figure size 432x288 with 2 Axes>"
      ]
     },
     "metadata": {
      "needs_background": "light"
     },
     "output_type": "display_data"
    }
   ],
   "source": [
    "# Save results\n",
    "results = X_current_edge.copy()\n",
    "results['Probability of recession within 12M after time point t'] = [x[1] for x in y_proba]\n",
    "\n",
    "# plot out-of-sample probability\n",
    "ax = results['Probability of recession within 12M after time point t'].plot(secondary_y=True, figsize=(12,8))\n",
    "ax.set_ylim((0,1))"
   ]
  }
 ],
 "metadata": {
  "kernelspec": {
   "display_name": "Python 3 (ipykernel)",
   "language": "python",
   "name": "python3"
  },
  "language_info": {
   "codemirror_mode": {
    "name": "ipython",
    "version": 3
   },
   "file_extension": ".py",
   "mimetype": "text/x-python",
   "name": "python",
   "nbconvert_exporter": "python",
   "pygments_lexer": "ipython3",
   "version": "3.10.4"
  }
 },
 "nbformat": 4,
 "nbformat_minor": 5
}
